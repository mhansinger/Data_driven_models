{
 "cells": [
  {
   "cell_type": "code",
   "execution_count": 1,
   "metadata": {},
   "outputs": [],
   "source": [
    "import numpy as np\n",
    "import pandas as pd\n",
    "import matplotlib.pyplot as plt\n"
   ]
  },
  {
   "cell_type": "code",
   "execution_count": 2,
   "metadata": {},
   "outputs": [],
   "source": [
    "# define the some functions\n",
    "def x1(d,phi,tet):\n",
    "    return d * np.cos((phi)) * np.sin((tet))\n",
    "\n",
    "def y1(d,phi,tet):\n",
    "    return d * np.sin((phi)) * np.cos((tet))\n",
    "\n",
    "def z1(tet):\n",
    "    return d*np.cos((tet))"
   ]
  },
  {
   "cell_type": "code",
   "execution_count": 3,
   "metadata": {},
   "outputs": [],
   "source": [
    "def freg(x,y,z,d,tet,phi):\n",
    "    return (x- x1(d,phi,tet))* x1(d,phi,tet)/d + (y - y1(d,phi,tet) * y1(d,phi,tet)/d + (z - z1(tet)) * z1(tet)/d) "
   ]
  },
  {
   "cell_type": "code",
   "execution_count": 7,
   "metadata": {},
   "outputs": [],
   "source": [
    "def fregz(x,y,d,tet,phi):\n",
    "    return (d*np.cos((tet)) - y * np.cos((phi))* np.tan((tet)) - x*np.sin((phi))*np.tan((tet))+\n",
    "           d*np.cos(phi)*np.cos(phi)*np.sin(tet)*np.tan(tet) + d*np.sin(phi)*np.sin(phi)*np.sin(tet)*np.tan(tet))"
   ]
  },
  {
   "cell_type": "code",
   "execution_count": null,
   "metadata": {},
   "outputs": [],
   "source": [
    "# define x and y range\n",
    "x_range = np.linspace(-0.5,0.5,100)\n",
    "y_range = np.linspace(-0.5,0.5,100)"
   ]
  },
  {
   "cell_type": "code",
   "execution_count": 10,
   "metadata": {},
   "outputs": [
    {
     "data": {
      "text/plain": [
       "0.7071067811865475"
      ]
     },
     "execution_count": 10,
     "metadata": {},
     "output_type": "execute_result"
    }
   ],
   "source": [
    "fregz(x=-0.5,y=-0.5,d=0,tet=np.pi/4,phi=np.pi/4)"
   ]
  },
  {
   "cell_type": "code",
   "execution_count": null,
   "metadata": {},
   "outputs": [],
   "source": []
  }
 ],
 "metadata": {
  "kernelspec": {
   "display_name": "Python 3",
   "language": "python",
   "name": "python3"
  },
  "language_info": {
   "codemirror_mode": {
    "name": "ipython",
    "version": 3
   },
   "file_extension": ".py",
   "mimetype": "text/x-python",
   "name": "python",
   "nbconvert_exporter": "python",
   "pygments_lexer": "ipython3",
   "version": "3.6.9"
  }
 },
 "nbformat": 4,
 "nbformat_minor": 4
}
